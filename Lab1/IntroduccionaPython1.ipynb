{
  "cells": [
    {
      "cell_type": "markdown",
      "metadata": {
        "id": "Dclkkig1kb4l"
      },
      "source": [
        "# Aspectos básicos de Python\n",
        "- Inspirado en Monty Python: La inspiración para el nombre vino del programa de televisión de la BBC: 'Monty Python's Flying Circus', ya que era un gran admirador del programa de televisión y también quería un nombre corto, único y ligeramente misterioso para su invento y ¡Por eso lo llamó Python! Fue el “dictador benévolo de por vida” (BDFL) hasta que dejó el cargo de líder el 12 de julio de 2018. Durante bastante tiempo trabajó para Google, pero actualmente trabaja en Dropbox.\n",
        "\n",
        "-Bello es mejor que feo.\n",
        "- Lo simple es mejor que lo complejo, lo complejo es mejor que lo complicado\n",
        "- Para más información escriba:\n",
        "Import this"
      ]
    },
    {
      "cell_type": "code",
      "execution_count": null,
      "metadata": {
        "id": "YQsIc88lkb4q",
        "outputId": "f7e4c080-9790-47b4-dedc-727d458bb2ea"
      },
      "outputs": [
        {
          "name": "stdout",
          "output_type": "stream",
          "text": [
            "The Zen of Python, by Tim Peters\n",
            "\n",
            "Beautiful is better than ugly.\n",
            "Explicit is better than implicit.\n",
            "Simple is better than complex.\n",
            "Complex is better than complicated.\n",
            "Flat is better than nested.\n",
            "Sparse is better than dense.\n",
            "Readability counts.\n",
            "Special cases aren't special enough to break the rules.\n",
            "Although practicality beats purity.\n",
            "Errors should never pass silently.\n",
            "Unless explicitly silenced.\n",
            "In the face of ambiguity, refuse the temptation to guess.\n",
            "There should be one-- and preferably only one --obvious way to do it.\n",
            "Although that way may not be obvious at first unless you're Dutch.\n",
            "Now is better than never.\n",
            "Although never is often better than *right* now.\n",
            "If the implementation is hard to explain, it's a bad idea.\n",
            "If the implementation is easy to explain, it may be a good idea.\n",
            "Namespaces are one honking great idea -- let's do more of those!\n"
          ]
        }
      ],
      "source": [
        "import this"
      ]
    },
    {
      "cell_type": "markdown",
      "metadata": {
        "id": "k59qnPvqkb4t"
      },
      "source": [
        "# Su primer Comando\n",
        "Comando Imprimir"
      ]
    },
    {
      "cell_type": "code",
      "execution_count": null,
      "metadata": {
        "colab": {
          "base_uri": "https://localhost:8080/"
        },
        "id": "sqjNvBK4kb4u",
        "outputId": "225d4178-d157-4719-8c5d-44b918323b15"
      },
      "outputs": [
        {
          "output_type": "stream",
          "name": "stdout",
          "text": [
            "Hola, UCR\n",
            "Hola, Antro\n"
          ]
        }
      ],
      "source": [
        "print('Hola, UCR')\n",
        "print(\"Hola, Antro\") # Comillas sencillas o dobles para texto"
      ]
    },
    {
      "cell_type": "markdown",
      "metadata": {
        "id": "Hixz3wb0kb4v"
      },
      "source": [
        "## Declaraciones"
      ]
    },
    {
      "cell_type": "markdown",
      "metadata": {
        "id": "F_WgbWHskb4v"
      },
      "source": [
        "Las declaraciones ayudan a ejecutar acciones o comandos"
      ]
    },
    {
      "cell_type": "code",
      "execution_count": null,
      "metadata": {
        "colab": {
          "base_uri": "https://localhost:8080/"
        },
        "id": "xe76He1Ikb4w",
        "outputId": "19668ab1-a82d-4389-8e88-a2e5c9fec325"
      },
      "outputs": [
        {
          "output_type": "stream",
          "name": "stdout",
          "text": [
            "3\n"
          ]
        }
      ],
      "source": [
        "#ejemplo\n",
        "import pandas\n",
        "print(3)"
      ]
    },
    {
      "cell_type": "markdown",
      "metadata": {
        "id": "myiPMMXgkb4x"
      },
      "source": [
        "La expresión en un conjunto de variables o fórmular que dan un resultado"
      ]
    },
    {
      "cell_type": "code",
      "execution_count": null,
      "metadata": {
        "colab": {
          "base_uri": "https://localhost:8080/"
        },
        "id": "pGm6PxCKkb4x",
        "outputId": "6c7a000e-4f70-4b58-b676-55c33464c816"
      },
      "outputs": [
        {
          "output_type": "stream",
          "name": "stdout",
          "text": [
            "3\n"
          ]
        }
      ],
      "source": [
        "#Asignar un valor\n",
        "a = 3\n",
        "print(a)"
      ]
    },
    {
      "cell_type": "code",
      "execution_count": null,
      "metadata": {
        "colab": {
          "base_uri": "https://localhost:8080/"
        },
        "id": "1Qv89bLbkb4x",
        "outputId": "fd884e39-28d0-4b2f-ba9f-db4018861c5e"
      },
      "outputs": [
        {
          "output_type": "stream",
          "name": "stdout",
          "text": [
            "12\n"
          ]
        }
      ],
      "source": [
        "#Fórmula u operación\n",
        "b= 4\n",
        "print(a*b)"
      ]
    },
    {
      "cell_type": "code",
      "execution_count": null,
      "metadata": {
        "colab": {
          "base_uri": "https://localhost:8080/"
        },
        "id": "uoBlZ2e3kb4y",
        "outputId": "9ad832ba-3fc0-46aa-fee9-4dbb425c580e"
      },
      "outputs": [
        {
          "output_type": "stream",
          "name": "stdout",
          "text": [
            "El resultado de la operación es: 12\n"
          ]
        }
      ],
      "source": [
        "#Puede combinar diferentes tipos de declaraciones y expresiones:\n",
        "print('El resultado de la operación es: {}'.format(a*b))"
      ]
    },
    {
      "cell_type": "code",
      "execution_count": null,
      "metadata": {
        "colab": {
          "base_uri": "https://localhost:8080/"
        },
        "id": "2HgFZCopkb4y",
        "outputId": "2c7d4540-de4d-4739-d7cd-c35f101d0f15"
      },
      "outputs": [
        {
          "output_type": "stream",
          "name": "stdout",
          "text": [
            "El resultado es:  12\n"
          ]
        }
      ],
      "source": [
        "#Otra forma de imprimir\n",
        "print('El resultado es: ', a*b)"
      ]
    },
    {
      "cell_type": "markdown",
      "metadata": {
        "id": "L9KP8dQbkb4z"
      },
      "source": [
        "# Reglas generales\n",
        "### 1. Los espacios en blanco son significativos\n",
        "### 2. Python es sensible a las mayusculas\n",
        "### 3. Python no acepta variables o nombres de columnas separadas por espacio"
      ]
    },
    {
      "cell_type": "code",
      "execution_count": null,
      "metadata": {
        "colab": {
          "base_uri": "https://localhost:8080/"
        },
        "id": "uhT4tYqHkb4z",
        "outputId": "fc67fada-f278-4609-fa17-d784767783eb"
      },
      "outputs": [
        {
          "output_type": "stream",
          "name": "stdout",
          "text": [
            "Hello World\n"
          ]
        }
      ],
      "source": [
        "#Funciones\n",
        "##Se usa indentacion\n",
        "def printfunction():\n",
        "    print('Hello World')\n",
        "\n",
        "printfunction()"
      ]
    },
    {
      "cell_type": "code",
      "execution_count": null,
      "metadata": {
        "colab": {
          "base_uri": "https://localhost:8080/",
          "height": 141
        },
        "id": "d9y6bVQakb4z",
        "outputId": "2bf4e153-f30e-47e3-eec7-743fe5e2b802"
      },
      "outputs": [
        {
          "output_type": "error",
          "ename": "NameError",
          "evalue": "name 'Printfunction' is not defined",
          "traceback": [
            "\u001b[0;31m---------------------------------------------------------------------------\u001b[0m",
            "\u001b[0;31mNameError\u001b[0m                                 Traceback (most recent call last)",
            "\u001b[0;32m<ipython-input-14-b020330abb45>\u001b[0m in \u001b[0;36m<cell line: 1>\u001b[0;34m()\u001b[0m\n\u001b[0;32m----> 1\u001b[0;31m \u001b[0mPrintfunction\u001b[0m\u001b[0;34m(\u001b[0m\u001b[0;34m)\u001b[0m\u001b[0;34m\u001b[0m\u001b[0;34m\u001b[0m\u001b[0m\n\u001b[0m",
            "\u001b[0;31mNameError\u001b[0m: name 'Printfunction' is not defined"
          ]
        }
      ],
      "source": [
        "Printfunction()"
      ]
    },
    {
      "cell_type": "code",
      "execution_count": null,
      "metadata": {
        "colab": {
          "base_uri": "https://localhost:8080/",
          "height": 106
        },
        "id": "SfIZVrGpkb40",
        "outputId": "57e59eb4-569b-4dba-b81e-8038fce4c557"
      },
      "outputs": [
        {
          "output_type": "error",
          "ename": "SyntaxError",
          "evalue": "invalid syntax (<ipython-input-15-b92402f1356e>, line 1)",
          "traceback": [
            "\u001b[0;36m  File \u001b[0;32m\"<ipython-input-15-b92402f1356e>\"\u001b[0;36m, line \u001b[0;32m1\u001b[0m\n\u001b[0;31m    variable a = \"the name\"\u001b[0m\n\u001b[0m             ^\u001b[0m\n\u001b[0;31mSyntaxError\u001b[0m\u001b[0;31m:\u001b[0m invalid syntax\n"
          ]
        }
      ],
      "source": [
        "variable a = \"the name\""
      ]
    },
    {
      "cell_type": "code",
      "execution_count": null,
      "metadata": {
        "id": "ud2h1hFFkb40"
      },
      "outputs": [],
      "source": [
        "variable = \"the name\""
      ]
    },
    {
      "cell_type": "code",
      "execution_count": null,
      "metadata": {
        "colab": {
          "base_uri": "https://localhost:8080/",
          "height": 158
        },
        "id": "cmtHvdS4kb40",
        "outputId": "0119c9dc-e211-4a22-983d-b0f395457323"
      },
      "outputs": [
        {
          "output_type": "error",
          "ename": "NameError",
          "evalue": "name 'variable_name' is not defined",
          "traceback": [
            "\u001b[0;31m---------------------------------------------------------------------------\u001b[0m",
            "\u001b[0;31mNameError\u001b[0m                                 Traceback (most recent call last)",
            "\u001b[0;32m<ipython-input-17-6d8bac7d7a0f>\u001b[0m in \u001b[0;36m<cell line: 2>\u001b[0;34m()\u001b[0m\n\u001b[1;32m      1\u001b[0m \u001b[0mcol_dfe\u001b[0m \u001b[0;34m=\u001b[0m \u001b[0;34m\"the name\"\u001b[0m\u001b[0;34m\u001b[0m\u001b[0;34m\u001b[0m\u001b[0m\n\u001b[0;32m----> 2\u001b[0;31m \u001b[0mprint\u001b[0m\u001b[0;34m(\u001b[0m\u001b[0mvariable_name\u001b[0m\u001b[0;34m)\u001b[0m\u001b[0;34m\u001b[0m\u001b[0;34m\u001b[0m\u001b[0m\n\u001b[0m",
            "\u001b[0;31mNameError\u001b[0m: name 'variable_name' is not defined"
          ]
        }
      ],
      "source": [
        "col_dfe = \"the name\"\n",
        "print(variable_name)"
      ]
    },
    {
      "cell_type": "markdown",
      "metadata": {
        "id": "yzcjrzk_kb41"
      },
      "source": [
        "## Tipos de variables (Datos) en Python"
      ]
    },
    {
      "cell_type": "code",
      "execution_count": null,
      "metadata": {
        "id": "JiffusMjkb41"
      },
      "outputs": [],
      "source": [
        "#String: Texto, palabras, fechas sin formato"
      ]
    },
    {
      "cell_type": "code",
      "execution_count": null,
      "metadata": {
        "colab": {
          "base_uri": "https://localhost:8080/"
        },
        "id": "21Jc9I7Kkb41",
        "outputId": "55adfe3c-9ddc-42f7-904f-32e98c358997"
      },
      "outputs": [
        {
          "output_type": "execute_result",
          "data": {
            "text/plain": [
              "str"
            ]
          },
          "metadata": {},
          "execution_count": 19
        }
      ],
      "source": [
        "c = \"Esta es una string. 01/01/2021 también es string\"\n",
        "type(c)"
      ]
    },
    {
      "cell_type": "code",
      "execution_count": null,
      "metadata": {
        "colab": {
          "base_uri": "https://localhost:8080/"
        },
        "id": "IZZnGNxYkb41",
        "outputId": "c89c0153-43b4-4be8-b053-ceab6fa3b314"
      },
      "outputs": [
        {
          "output_type": "execute_result",
          "data": {
            "text/plain": [
              "int"
            ]
          },
          "metadata": {},
          "execution_count": 21
        }
      ],
      "source": [
        "# Número intero\n",
        "d = 25\n",
        "type(d)"
      ]
    },
    {
      "cell_type": "code",
      "execution_count": null,
      "metadata": {
        "colab": {
          "base_uri": "https://localhost:8080/"
        },
        "id": "8t8ymcftkb42",
        "outputId": "932fd7c6-7609-43da-cee3-35ed48249ecf"
      },
      "outputs": [
        {
          "output_type": "execute_result",
          "data": {
            "text/plain": [
              "float"
            ]
          },
          "metadata": {},
          "execution_count": 23
        }
      ],
      "source": [
        "# Punto flotante\n",
        "e = 25.0\n",
        "type(e)"
      ]
    },
    {
      "cell_type": "code",
      "execution_count": null,
      "metadata": {
        "colab": {
          "base_uri": "https://localhost:8080/"
        },
        "id": "PskQvRzBkb42",
        "outputId": "2a9cf56e-4bad-4e31-da5e-a712b040950d"
      },
      "outputs": [
        {
          "output_type": "execute_result",
          "data": {
            "text/plain": [
              "bool"
            ]
          },
          "metadata": {},
          "execution_count": 24
        }
      ],
      "source": [
        "#Variable booleana\n",
        "g = True\n",
        "h = False\n",
        "type(h)"
      ]
    },
    {
      "cell_type": "markdown",
      "metadata": {
        "id": "ph1twTw6kb42"
      },
      "source": [
        "# Fórmulas Condicionales (IF)"
      ]
    },
    {
      "cell_type": "markdown",
      "metadata": {
        "id": "Ej83YeGlkb43"
      },
      "source": [
        "### Aritmética Booleana\n",
        "Se utilizan los siguientes operadores para saber si una comparacion es falsa o verdadera\n",
        "- or\n",
        "- and\n",
        "- not\n",
        "- == (equivalent)\n",
        "- != (not equivalent)"
      ]
    },
    {
      "cell_type": "code",
      "execution_count": null,
      "metadata": {
        "colab": {
          "base_uri": "https://localhost:8080/"
        },
        "id": "Be9ue8OQkb43",
        "outputId": "6faa8b05-378e-4cbe-fc8c-4f6128424b59"
      },
      "outputs": [
        {
          "output_type": "execute_result",
          "data": {
            "text/plain": [
              "False"
            ]
          },
          "metadata": {},
          "execution_count": 25
        }
      ],
      "source": [
        "tres = 3\n",
        "cuatro = 3\n",
        "tres != cuatro"
      ]
    },
    {
      "cell_type": "code",
      "execution_count": null,
      "metadata": {
        "colab": {
          "base_uri": "https://localhost:8080/"
        },
        "id": "rHhvU1wDkb43",
        "outputId": "2a13ba42-1ce1-40ef-9b75-e6c0748c9933"
      },
      "outputs": [
        {
          "output_type": "execute_result",
          "data": {
            "text/plain": [
              "False"
            ]
          },
          "metadata": {},
          "execution_count": 26
        }
      ],
      "source": [
        "tres != 3"
      ]
    },
    {
      "cell_type": "code",
      "execution_count": null,
      "metadata": {
        "colab": {
          "base_uri": "https://localhost:8080/"
        },
        "id": "aCXKhei8kb44",
        "outputId": "172ff8be-585a-4dc5-931a-3bafcbc11227"
      },
      "outputs": [
        {
          "output_type": "stream",
          "name": "stdout",
          "text": [
            "El variables de tres es:  3\n"
          ]
        }
      ],
      "source": [
        "### Condicionales\n",
        "\n",
        "if tres == 3:\n",
        "    print('El variables de tres es: ', tres)\n"
      ]
    },
    {
      "cell_type": "code",
      "execution_count": null,
      "metadata": {
        "colab": {
          "base_uri": "https://localhost:8080/"
        },
        "id": "PikdzW1Ykb44",
        "outputId": "0426caea-a715-46e3-d2f3-8b104dc3b120"
      },
      "outputs": [
        {
          "output_type": "stream",
          "name": "stdout",
          "text": [
            "El valor no es  3\n"
          ]
        }
      ],
      "source": [
        "if tres == 4:\n",
        "    print('El valor es: ', tres)\n",
        "else:\n",
        "    print('El valor no es ', tres)"
      ]
    }
  ],
  "metadata": {
    "kernelspec": {
      "display_name": "Python 3",
      "language": "python",
      "name": "python3"
    },
    "language_info": {
      "codemirror_mode": {
        "name": "ipython",
        "version": 3
      },
      "file_extension": ".py",
      "mimetype": "text/x-python",
      "name": "python",
      "nbconvert_exporter": "python",
      "pygments_lexer": "ipython3",
      "version": "3.8.8"
    },
    "colab": {
      "provenance": []
    }
  },
  "nbformat": 4,
  "nbformat_minor": 0
}